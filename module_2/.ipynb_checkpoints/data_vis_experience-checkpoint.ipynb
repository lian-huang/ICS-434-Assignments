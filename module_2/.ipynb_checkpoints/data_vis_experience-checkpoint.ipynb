{
 "cells": [
  {
   "cell_type": "markdown",
   "id": "8b1a4ff6",
   "metadata": {},
   "source": [
    "#### 1. Reproducing a plot\n",
    "1. Use `numpy`'s `random` module to generate a random list of size 1000 of the following three categories: \"CS\", \"Engineering\", \"Math\" and \"Physics\"\n",
    "  1.1 Use a seed of 42\n",
    "2. Store the data in an array called my `students_affiliations`\n",
    "3. use `matplotlib` to plot the data in `students_affiliations` to reproduce the following graph\n",
    " 3.1 The plot uses \"#FF5733\" as color with an alpha (transparency) of 0.55.\n",
    "\n",
    "* Your graph should look exactly like the one below\n",
    "\n",
    "![](https://www.dropbox.com/s/ffmu62es6d7evh5/experience_fig.png?dl=1)"
   ]
  },
  {
   "cell_type": "code",
   "execution_count": 3,
   "id": "cd66642a",
   "metadata": {},
   "outputs": [
    {
     "data": {
      "text/plain": [
       "Text(0.5, 1.0, 'Distribution of Students in the Program')"
      ]
     },
     "execution_count": 3,
     "metadata": {},
     "output_type": "execute_result"
    },
    {
     "data": {
      "image/png": "[encoded data removed]",
      "text/plain": [
       "<Figure size 432x288 with 1 Axes>"
      ]
     },
     "metadata": {
      "needs_background": "light"
     },
     "output_type": "display_data"
    }
   ],
   "source": [
    "import numpy as np\n",
    "from numpy import random\n",
    "import pandas as pd\n",
    "import matplotlib.pyplot as plt\n",
    "\n",
    "random.seed(42)\n",
    "Discipline = [\"CS\", \"Engineering\", \"Math\", \"Physics\"]\n",
    "\n",
    "students_affiliations = []\n",
    "for i in range (1000):\n",
    "    students_affiliations.append(random.choice(Discipline))\n",
    "# print(students_affiliations)\n",
    "\n",
    "df = pd.DataFrame(students_affiliations, columns=[\"Counts\"])\n",
    "df = df[\"Counts\"].value_counts()\n",
    "df = df.to_frame()\n",
    "df = df.rename_axis('Disciplines')\n",
    "df = df.reset_index()\n",
    "\n",
    "Disciplines = df[\"Disciplines\"].to_numpy()\n",
    "Counts = df[\"Counts\"].to_numpy()\n",
    "\n",
    "fig, ax = plt.subplots()\n",
    "ax.bar(Disciplines, Counts, color=\"#FF5733\", alpha=.55)\n",
    "ax.set_xlabel('Disciplines')\n",
    "ax.set_ylabel('Counts')\n",
    "ax.set_title('Distribution of Students in the Program')"
   ]
  },
  {
   "cell_type": "markdown",
   "id": "bf3607f3",
   "metadata": {},
   "source": [
    "#### 2. Generating a scatter plot\n",
    "* Generate random data to produce a scatter plot\n",
    "  * You can use any function to generate the data\n",
    "  * Instead of using circles as symbols, you should use squares.\n",
    "    "
   ]
  },
  {
   "cell_type": "code",
   "execution_count": 5,
   "id": "9f7530eb",
   "metadata": {},
   "outputs": [
    {
     "data": {
      "text/plain": [
       "Text(0.5, 1.0, 'Representation of Partcipants Age and Income')"
      ]
     },
     "execution_count": 5,
     "metadata": {},
     "output_type": "execute_result"
    },
    {
     "data": {
      "image/png": "[encoded data removed]",
      "text/plain": [
       "<Figure size 864x432 with 1 Axes>"
      ]
     },
     "metadata": {
      "needs_background": "light"
     },
     "output_type": "display_data"
    }
   ],
   "source": [
    "age = np.random.randint(19, 65, 100)\n",
    "income = np.random.randint(45, 165, 100)\n",
    "\n",
    "plt.figure(figsize=(12,6))\n",
    "plt.scatter(age, income, marker= \",\")\n",
    "\n",
    "ax.set_xlabel('Age')\n",
    "ax.set_ylabel('Income')\n",
    "ax.set_title('Representation of Partcipants Age and Income')"
   ]
  }
 ],
 "metadata": {
  "kernelspec": {
   "display_name": "Python 3",
   "language": "python",
   "name": "python3"
  },
  "language_info": {
   "codemirror_mode": {
    "name": "ipython",
    "version": 3
   },
   "file_extension": ".py",
   "mimetype": "text/x-python",
   "name": "python",
   "nbconvert_exporter": "python",
   "pygments_lexer": "ipython3",
   "version": "3.8.8"
  }
 },
 "nbformat": 4,
 "nbformat_minor": 5
}
